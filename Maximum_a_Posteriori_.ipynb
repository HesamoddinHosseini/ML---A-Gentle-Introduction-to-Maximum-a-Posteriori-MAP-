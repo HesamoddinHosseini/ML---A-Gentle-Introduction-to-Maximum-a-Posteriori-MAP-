{
  "nbformat": 4,
  "nbformat_minor": 0,
  "metadata": {
    "colab": {
      "name": "Maximum a Posteriori .ipynb",
      "provenance": [],
      "collapsed_sections": [],
      "authorship_tag": "ABX9TyMunnylFJt2b9j4UVYWaLV8",
      "include_colab_link": true
    },
    "kernelspec": {
      "name": "python3",
      "display_name": "Python 3"
    },
    "language_info": {
      "name": "python"
    }
  },
  "cells": [
    {
      "cell_type": "markdown",
      "metadata": {
        "id": "view-in-github",
        "colab_type": "text"
      },
      "source": [
        "<a href=\"https://colab.research.google.com/github/HesamoddinHosseini/ML---Maximum-a-Posteriori-MAP-/blob/main/Maximum_a_Posteriori_.ipynb\" target=\"_parent\"><img src=\"https://colab.research.google.com/assets/colab-badge.svg\" alt=\"Open In Colab\"/></a>"
      ]
    },
    {
      "cell_type": "code",
      "metadata": {
        "id": "9pmrVn5uxYvU"
      },
      "source": [
        "# Maximum a posteriori Estimation (MAP)"
      ],
      "execution_count": 1,
      "outputs": []
    },
    {
      "cell_type": "code",
      "metadata": {
        "id": "i1_73k39x0fn"
      },
      "source": [
        "#Seyed Hesamoddin Hosseini\n",
        "# 24 November"
      ],
      "execution_count": null,
      "outputs": []
    },
    {
      "cell_type": "code",
      "metadata": {
        "id": "Xgg5Edzqx0o4"
      },
      "source": [
        "import numpy as np\n",
        "from numpy import random\n",
        "from numpy.core.fromnumeric import size\n",
        "from scipy import stats\n",
        "import scipy\n",
        "from scipy.optimize import minimize"
      ],
      "execution_count": 18,
      "outputs": []
    },
    {
      "cell_type": "code",
      "metadata": {
        "id": "ZG7NXj-IyD6I"
      },
      "source": [
        "my_Exp =np.random.normal(loc=20,scale=6,size=100)\n",
        "#avgerage prior= AP\n",
        "AP =16\n",
        "#variance prior=VP\n",
        "VP=4\n",
        "for i in range(0,50):\n",
        "   teta=my_Exp[i]+AP\n",
        "teta=teta/1+100\n"
      ],
      "execution_count": 27,
      "outputs": []
    },
    {
      "cell_type": "code",
      "metadata": {
        "id": "SDaUW6cKy8sY"
      },
      "source": [
        "def gaussian(parameters):\n",
        "    avg=parameters[0]\n",
        "    variance=parameters[1]\n",
        "    #sum log= SL\n",
        "    SL=-np.sum(np.log(stats.norm.pdf(teta,loc=AP,scale=VP) * \n",
        "                      stats.norm.pdf(my_Exp,loc=avg,scale=variance)))\n",
        "    return SL\n"
      ],
      "execution_count": 33,
      "outputs": []
    },
    {
      "cell_type": "code",
      "metadata": {
        "colab": {
          "base_uri": "https://localhost:8080/"
        },
        "id": "-iCrAn3hau_7",
        "outputId": "8a40a9cd-172d-4a5c-825a-d623cad1075e"
      },
      "source": [
        "output=minimize(gaussian,initial).x\n",
        "print('teta= ',output[0])\n",
        "print('mean - teta= ',output[0]-20)"
      ],
      "execution_count": 34,
      "outputs": [
        {
          "output_type": "stream",
          "name": "stdout",
          "text": [
            "teta=  19.638197579048093\n",
            "mean - teta=  -0.36180242095190707\n"
          ]
        },
        {
          "output_type": "stream",
          "name": "stderr",
          "text": [
            "/usr/local/lib/python3.7/dist-packages/ipykernel_launcher.py:6: RuntimeWarning: divide by zero encountered in log\n",
            "  \n",
            "/usr/local/lib/python3.7/dist-packages/scipy/optimize/optimize.py:697: RuntimeWarning: invalid value encountered in double_scalars\n",
            "  df = (f(*((xk + d,) + args)) - f0) / d[k]\n",
            "/usr/local/lib/python3.7/dist-packages/ipykernel_launcher.py:6: RuntimeWarning: divide by zero encountered in log\n",
            "  \n"
          ]
        }
      ]
    }
  ]
}